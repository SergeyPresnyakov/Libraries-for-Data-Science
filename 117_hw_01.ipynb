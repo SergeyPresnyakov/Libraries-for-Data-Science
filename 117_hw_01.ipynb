{
 "cells": [
  {
   "cell_type": "markdown",
   "metadata": {},
   "source": [
    "# Курс Фреймворк PyTorch для разработки искусственных нейронных сетей"
   ]
  },
  {
   "cell_type": "markdown",
   "metadata": {},
   "source": [
    "# Практическое задание урока 1. Введение в PyTorch"
   ]
  },
  {
   "cell_type": "code",
   "execution_count": 1,
   "metadata": {},
   "outputs": [],
   "source": [
    "import torch"
   ]
  },
  {
   "cell_type": "code",
   "execution_count": 2,
   "metadata": {},
   "outputs": [],
   "source": [
    "import numpy as np"
   ]
  },
  {
   "cell_type": "code",
   "execution_count": 3,
   "metadata": {},
   "outputs": [
    {
     "name": "stdout",
     "output_type": "stream",
     "text": [
      "x :\n",
      "tensor([[[-0.9636,  0.7609,  0.2220, -1.1732, -0.9533],\n",
      "         [ 0.8485,  0.3369,  1.4835, -0.7108,  0.8345],\n",
      "         [ 0.3785, -1.5172, -2.0121, -2.0604, -1.1774],\n",
      "         [ 1.2347,  1.1043, -0.0478,  0.4468, -0.4029]],\n",
      "\n",
      "        [[-0.2676, -1.4492,  0.1982, -0.4225,  1.1525],\n",
      "         [ 0.4042,  0.6213,  0.5164, -0.2193,  1.3373],\n",
      "         [-0.2184,  0.1457,  0.1730, -0.9411, -0.0611],\n",
      "         [ 1.4689, -1.4441, -0.4151, -0.3592,  1.0585]],\n",
      "\n",
      "        [[-0.6451, -0.5762, -0.1824,  0.0364,  1.3505],\n",
      "         [-0.1497,  0.5495, -1.0902, -0.0910, -1.2871],\n",
      "         [ 0.4673,  0.6946, -0.1390,  0.8559, -1.1570],\n",
      "         [-0.3609, -2.9571,  0.9831, -1.8477,  1.5036]]])\n",
      "\n"
     ]
    }
   ],
   "source": [
    "# Создайте случайный FloatTensor размера 3x4x5\n",
    "\n",
    "x = torch.randn(3, 4, 5).type(torch.float32)\n",
    "print(\"x :\\n%s\\n\" % x)"
   ]
  },
  {
   "cell_type": "code",
   "execution_count": 4,
   "metadata": {},
   "outputs": [
    {
     "name": "stdout",
     "output_type": "stream",
     "text": [
      "x размеры : torch.Size([3, 4, 5])\n",
      "\n"
     ]
    }
   ],
   "source": [
    "# Выведите его форму (shape)\n",
    "\n",
    "print(\"x размеры : %s\\n\" % (x.shape,))"
   ]
  },
  {
   "cell_type": "code",
   "execution_count": 5,
   "metadata": {},
   "outputs": [
    {
     "name": "stdout",
     "output_type": "stream",
     "text": [
      "x размеры : torch.Size([6, 10])\n",
      "\n"
     ]
    }
   ],
   "source": [
    "# Приведите его к форме 6 X 10\n",
    "\n",
    "x.resize_(6, 10)\n",
    "print(\"x размеры : %s\\n\" % (x.shape,))"
   ]
  },
  {
   "cell_type": "code",
   "execution_count": 162,
   "metadata": {},
   "outputs": [],
   "source": [
    "# Умножьте его на вектор [1, 4, 2, 2, 1] поэлементно"
   ]
  },
  {
   "cell_type": "code",
   "execution_count": 6,
   "metadata": {},
   "outputs": [
    {
     "name": "stdout",
     "output_type": "stream",
     "text": [
      "x размеры : torch.Size([3, 4, 5])\n",
      "\n"
     ]
    }
   ],
   "source": [
    "x.resize_(3, 4, 5)\n",
    "print(\"x размеры : %s\\n\" % (x.shape,))"
   ]
  },
  {
   "cell_type": "code",
   "execution_count": 7,
   "metadata": {},
   "outputs": [],
   "source": [
    "vec = torch.FloatTensor([1, 4, 2, 2, 1])"
   ]
  },
  {
   "cell_type": "code",
   "execution_count": 8,
   "metadata": {},
   "outputs": [
    {
     "data": {
      "text/plain": [
       "tensor([[[ -0.9636,   3.0434,   0.4440,  -2.3463,  -0.9533],\n",
       "         [  0.8485,   1.3475,   2.9669,  -1.4216,   0.8345],\n",
       "         [  0.3785,  -6.0689,  -4.0243,  -4.1209,  -1.1774],\n",
       "         [  1.2347,   4.4172,  -0.0956,   0.8936,  -0.4029]],\n",
       "\n",
       "        [[ -0.2676,  -5.7968,   0.3963,  -0.8451,   1.1525],\n",
       "         [  0.4042,   2.4850,   1.0327,  -0.4386,   1.3373],\n",
       "         [ -0.2184,   0.5826,   0.3460,  -1.8822,  -0.0611],\n",
       "         [  1.4689,  -5.7765,  -0.8303,  -0.7185,   1.0585]],\n",
       "\n",
       "        [[ -0.6451,  -2.3048,  -0.3648,   0.0729,   1.3505],\n",
       "         [ -0.1497,   2.1981,  -2.1804,  -0.1820,  -1.2871],\n",
       "         [  0.4673,   2.7783,  -0.2780,   1.7117,  -1.1570],\n",
       "         [ -0.3609, -11.8284,   1.9661,  -3.6954,   1.5036]]])"
      ]
     },
     "execution_count": 8,
     "metadata": {},
     "output_type": "execute_result"
    }
   ],
   "source": [
    "x * vec"
   ]
  },
  {
   "cell_type": "code",
   "execution_count": 9,
   "metadata": {},
   "outputs": [],
   "source": [
    "# Умножьте тензор матрично на себя, чтобы результат был размерности 6x6"
   ]
  },
  {
   "cell_type": "code",
   "execution_count": 10,
   "metadata": {},
   "outputs": [
    {
     "data": {
      "text/plain": [
       "torch.Size([6, 6])"
      ]
     },
     "execution_count": 10,
     "metadata": {},
     "output_type": "execute_result"
    }
   ],
   "source": [
    "x.resize_(6, 10)\n",
    "torch.matmul(x, x.transpose(0,1)).size()"
   ]
  },
  {
   "cell_type": "code",
   "execution_count": 11,
   "metadata": {},
   "outputs": [],
   "source": [
    "# Посчитайте производную функции y = x**3 + z - 75t в точке (1, 0.5, 2)"
   ]
  },
  {
   "cell_type": "code",
   "execution_count": 12,
   "metadata": {},
   "outputs": [],
   "source": [
    "from torch.autograd import Variable"
   ]
  },
  {
   "cell_type": "code",
   "execution_count": 13,
   "metadata": {},
   "outputs": [],
   "source": [
    "x = Variable(torch.FloatTensor([1, 0.5, 2]), requires_grad = True)\n",
    "z = Variable(torch.ones(3), requires_grad = True)\n",
    "t = Variable(torch.ones(3), requires_grad = True)"
   ]
  },
  {
   "cell_type": "code",
   "execution_count": 15,
   "metadata": {},
   "outputs": [
    {
     "name": "stdout",
     "output_type": "stream",
     "text": [
      "tensor([-73.0000, -73.8750, -66.0000], grad_fn=<SubBackward0>)\n"
     ]
    }
   ],
   "source": [
    "y = x**3 + z - 75*t\n",
    "print(y)"
   ]
  },
  {
   "cell_type": "code",
   "execution_count": 16,
   "metadata": {},
   "outputs": [],
   "source": [
    "y.backward(torch.ones(3))"
   ]
  },
  {
   "cell_type": "code",
   "execution_count": 17,
   "metadata": {},
   "outputs": [
    {
     "name": "stdout",
     "output_type": "stream",
     "text": [
      "Производная в точке x = (1, 0.5, 2) : tensor([ 3.0000,  0.7500, 12.0000])\n",
      "\n"
     ]
    }
   ],
   "source": [
    "print(\"Производная в точке x = (1, 0.5, 2) : %s\\n\" % (x.grad))"
   ]
  },
  {
   "cell_type": "code",
   "execution_count": 18,
   "metadata": {},
   "outputs": [
    {
     "name": "stdout",
     "output_type": "stream",
     "text": [
      "X :\n",
      "tensor([[1., 1., 1., 1., 1., 1.],\n",
      "        [1., 1., 1., 1., 1., 1.],\n",
      "        [1., 1., 1., 1., 1., 1.],\n",
      "        [1., 1., 1., 1., 1., 1.],\n",
      "        [1., 1., 1., 1., 1., 1.]])\n",
      "\n",
      "X размеры : torch.Size([5, 6])\n",
      "\n",
      "X тип : <class 'torch.Tensor'>\n",
      "\n"
     ]
    }
   ],
   "source": [
    "# Создайте единичный тензор размера 5x6\n",
    "\n",
    "x = torch.ones(5,6)\n",
    "print(\"X :\\n%s\\n\" % x)\n",
    "print(\"X размеры : %s\\n\" % (x.shape,))\n",
    "print(\"X тип : %s\\n\" % (type(x)))"
   ]
  },
  {
   "cell_type": "code",
   "execution_count": 19,
   "metadata": {},
   "outputs": [
    {
     "name": "stdout",
     "output_type": "stream",
     "text": [
      "X :\n",
      "[[1. 1. 1. 1. 1. 1.]\n",
      " [1. 1. 1. 1. 1. 1.]\n",
      " [1. 1. 1. 1. 1. 1.]\n",
      " [1. 1. 1. 1. 1. 1.]\n",
      " [1. 1. 1. 1. 1. 1.]]\n",
      "\n",
      "X размеры : (5, 6)\n",
      "\n",
      "X тип : <class 'numpy.ndarray'>\n",
      "\n"
     ]
    }
   ],
   "source": [
    "# Переведите его в формат numpy\n",
    "\n",
    "x = x.numpy()\n",
    "print(\"X :\\n%s\\n\" % x)\n",
    "print(\"X размеры : %s\\n\" % (x.shape,))\n",
    "print(\"X тип : %s\\n\" % (type(x)))"
   ]
  },
  {
   "cell_type": "code",
   "execution_count": null,
   "metadata": {},
   "outputs": [],
   "source": []
  }
 ],
 "metadata": {
  "kernelspec": {
   "display_name": "Python 3 (ipykernel)",
   "language": "python",
   "name": "python3"
  },
  "language_info": {
   "codemirror_mode": {
    "name": "ipython",
    "version": 3
   },
   "file_extension": ".py",
   "mimetype": "text/x-python",
   "name": "python",
   "nbconvert_exporter": "python",
   "pygments_lexer": "ipython3",
   "version": "3.9.7"
  }
 },
 "nbformat": 4,
 "nbformat_minor": 2
}
